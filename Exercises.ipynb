{
 "cells": [
  {
   "cell_type": "markdown",
   "metadata": {},
   "source": [
    "# Ex - "
   ]
  },
  {
   "cell_type": "markdown",
   "metadata": {},
   "source": [
    "### Introduction:\n",
    "\n",
    "This time you will create a data \n",
    "\n",
    "Special thanks to: https://github.com/justmarkham for sharing the dataset and materials.\n",
    "\n",
    "### Step 1. Import the necessary libraries"
   ]
  },
  {
   "cell_type": "code",
   "execution_count": 1,
   "metadata": {},
   "outputs": [
    {
     "name": "stderr",
     "output_type": "stream",
     "text": [
      "/Users/tammy/anaconda/lib/python2.7/site-packages/IPython/core/interactiveshell.py:2717: DtypeWarning: Columns (3) have mixed types. Specify dtype option on import or set low_memory=False.\n",
      "  interactivity=interactivity, compiler=compiler, result=result)\n"
     ]
    }
   ],
   "source": [
    "import numpy as np \n",
    "import pandas as pd\n",
    "data = pd.read_csv('NYPD_Motor_Vehicle_Collisions.csv')"
   ]
  },
  {
   "cell_type": "markdown",
   "metadata": {},
   "source": [
    "### Step 2. Import the dataset from this [address](https://raw.githubusercontent.com/justmarkham/DAT8/master/data/chipotle.tsv). "
   ]
  },
  {
   "cell_type": "markdown",
   "metadata": {},
   "source": [
    "### Step 3. Assign it to a variable called "
   ]
  },
  {
   "cell_type": "code",
   "execution_count": 16,
   "metadata": {},
   "outputs": [
    {
     "name": "stdout",
     "output_type": "stream",
     "text": [
      "<class 'pandas.core.frame.DataFrame'>\n",
      "Int64Index: 1486226 entries, 2 to 1486227\n",
      "Data columns (total 29 columns):\n",
      "DATE                             1486226 non-null datetime64[ns]\n",
      "TIME                             1486226 non-null object\n",
      "BOROUGH                          1041432 non-null object\n",
      "ZIP CODE                         1041257 non-null object\n",
      "LATITUDE                         1299798 non-null float64\n",
      "LONGITUDE                        1299798 non-null float64\n",
      "LOCATION                         1299798 non-null object\n",
      "ON STREET NAME                   1200761 non-null object\n",
      "CROSS STREET NAME                1010084 non-null object\n",
      "OFF STREET NAME                  193312 non-null object\n",
      "NUMBER OF PERSONS INJURED        1486209 non-null float64\n",
      "NUMBER OF PERSONS KILLED         1486195 non-null float64\n",
      "NUMBER OF PEDESTRIANS INJURED    1486226 non-null int64\n",
      "NUMBER OF PEDESTRIANS KILLED     1486226 non-null int64\n",
      "NUMBER OF CYCLIST INJURED        1486226 non-null int64\n",
      "NUMBER OF CYCLIST KILLED         1486226 non-null int64\n",
      "NUMBER OF MOTORIST INJURED       1486226 non-null int64\n",
      "NUMBER OF MOTORIST KILLED        1486226 non-null int64\n",
      "CONTRIBUTING FACTOR VEHICLE 1    1482374 non-null object\n",
      "CONTRIBUTING FACTOR VEHICLE 2    1288403 non-null object\n",
      "CONTRIBUTING FACTOR VEHICLE 3    95687 non-null object\n",
      "CONTRIBUTING FACTOR VEHICLE 4    19874 non-null object\n",
      "CONTRIBUTING FACTOR VEHICLE 5    5060 non-null object\n",
      "UNIQUE KEY                       1486226 non-null int64\n",
      "VEHICLE TYPE CODE 1              1481549 non-null object\n",
      "VEHICLE TYPE CODE 2              1245846 non-null object\n",
      "VEHICLE TYPE CODE 3              125163 non-null object\n",
      "VEHICLE TYPE CODE 4              47740 non-null object\n",
      "VEHICLE TYPE CODE 5              10177 non-null object\n",
      "dtypes: datetime64[ns](1), float64(4), int64(7), object(17)\n",
      "memory usage: 340.2+ MB\n"
     ]
    }
   ],
   "source": [
    "#import datetime\n",
    "data['DATE'] = pd.to_datetime(data['DATE'])\n",
    "#data = data.drop(data['DATE']>pd.to_datetime('2018-12-31'),axis=0)\n",
    "data.info()"
   ]
  },
  {
   "cell_type": "markdown",
   "metadata": {},
   "source": [
    "### Step 4. What is the total number of persons injured in the dataset (up to December 31, 2018?)"
   ]
  },
  {
   "cell_type": "code",
   "execution_count": 64,
   "metadata": {},
   "outputs": [
    {
     "name": "stdout",
     "output_type": "stream",
     "text": [
      "368034.0\n"
     ]
    }
   ],
   "source": [
    "print(data.loc[data['DATE']<=pd.to_datetime('2018-12-31')]['NUMBER OF PERSONS INJURED'].sum())"
   ]
  },
  {
   "cell_type": "markdown",
   "metadata": {},
   "source": [
    "### Step 5. What proportion of collisions in 2016 resulted in injury or death of a cyclist?"
   ]
  },
  {
   "cell_type": "code",
   "execution_count": 59,
   "metadata": {
    "scrolled": true
   },
   "outputs": [
    {
     "name": "stdout",
     "output_type": "stream",
     "text": [
      "0.2065425523\n"
     ]
    }
   ],
   "source": [
    "data_2016 = data.loc[pd.DatetimeIndex(data['DATE']).year==2016]\n",
    "data_2016_b = data_2016.loc[data_2016.BOROUGH == 'BROOKLYN']\n",
    "print (round(len(data_2016_b)/(len(data_2016)*1.0000000000),10))"
   ]
  },
  {
   "cell_type": "markdown",
   "metadata": {},
   "source": [
    "### Step 6. What proportion of all collisions in 2016 occured in Brooklyn? Only consider entries with a non-null value for BOROUGH."
   ]
  },
  {
   "cell_type": "code",
   "execution_count": 60,
   "metadata": {},
   "outputs": [
    {
     "name": "stdout",
     "output_type": "stream",
     "text": [
      "0.0216547426\n"
     ]
    }
   ],
   "source": [
    "data_2016_c = data_2016.loc[(data_2016['NUMBER OF CYCLIST INJURED']>0) | (data_2016['NUMBER OF CYCLIST KILLED']>0)]\n",
    "print (round(len(data_2016_c)/(len(data_2016)*1.0000000000),10))"
   ]
  },
  {
   "cell_type": "markdown",
   "metadata": {},
   "source": [
    "### Step 7. Obtain the number of vehicles involved in each collision in 2016. Group the collisions by zip code and compute the sum of all vehicles involved in collisions in each zip code, then report the maximum of these values."
   ]
  },
  {
   "cell_type": "code",
   "execution_count": 86,
   "metadata": {},
   "outputs": [
    {
     "data": {
      "text/plain": [
       "5703"
      ]
     },
     "execution_count": 86,
     "metadata": {},
     "output_type": "execute_result"
    }
   ],
   "source": [
    "zip_agg = data_2016.groupby('ZIP CODE').count().iloc[:,-5:]\n",
    "zip_agg.sum(axis=1).max()"
   ]
  },
  {
   "cell_type": "markdown",
   "metadata": {},
   "source": [
    "### Step 8. Do winter driving conditions lead to more multi-car collisions? Compute the rate of multi car collisions as the proportion of the number of collisions involving 3 or more cars to the total number of collisions for each month of 2017. Calculate the chi-square test statistic for testing whether a collision is more likely to involve 3 or more cars in January than in May."
   ]
  },
  {
   "cell_type": "code",
   "execution_count": 184,
   "metadata": {},
   "outputs": [
    {
     "data": {
      "text/plain": [
       "1.5092938302"
      ]
     },
     "execution_count": 184,
     "metadata": {},
     "output_type": "execute_result"
    }
   ],
   "source": [
    "data_2017 = data.loc[pd.DatetimeIndex(data['DATE']).year==2017]\n",
    "\n",
    "data_2017.set_index(data_2017['DATE'],inplace=True)\n",
    "data_2017_3plus = data_2017.loc[data_2017['VEHICLE TYPE CODE 3'].notnull()]\n",
    "\n",
    "data_2017_may=data_2017.loc[data_2017.index.month==pd.to_datetime('2017-05-01').month]\n",
    "data_2017_jan=data_2017.loc[data_2017.index.month==pd.to_datetime('2017-01-01').month]\n",
    "\n",
    "\n",
    "data_2017_3plus_may=data_2017_3plus.loc[data_2017_3plus.index.month==pd.to_datetime('2017-05-01').month]\n",
    "data_2017_3plus_jan=data_2017_3plus.loc[data_2017_3plus.index.month==pd.to_datetime('2017-01-01').month]\n",
    "\n",
    "import scipy.stats as scs\n",
    "table = [[len(data_2017_3plus_jan)/(len(data_2017_jan)*1.0000000000),\\\n",
    "          len(data_2017_3plus_may)/(len(data_2017_may)*1.0000000000)],\\\n",
    "          [(len(data_2017_jan)-len(data_2017_3plus_jan))/(len(data_2017_jan)*1.0000000000),\\\n",
    "          (len(data_2017_may)-len(data_2017_3plus_may))/(len(data_2017_may)*1.0000000000)]]##0.353940,0.054064\n",
    "round(scs.chi2_contingency(table)[0],10)\n",
    "#scs.chi2_contingency(table)"
   ]
  },
  {
   "cell_type": "markdown",
   "metadata": {},
   "source": [
    "### Step 9. "
   ]
  },
  {
   "cell_type": "code",
   "execution_count": 201,
   "metadata": {},
   "outputs": [],
   "source": [
    "data_2017_alcohol = data_2017.loc[((data_2017['CONTRIBUTING FACTOR VEHICLE 1'].notnull()) &\\\n",
    "              (data_2017['CONTRIBUTING FACTOR VEHICLE 1'].str.contains('Alcohol'))) | \\\n",
    "                                  ((data_2017['CONTRIBUTING FACTOR VEHICLE 2'].notnull()) &\\\n",
    "              (data_2017['CONTRIBUTING FACTOR VEHICLE 2'].str.contains('Alcohol'))) | \\\n",
    "                                 ((data_2017['CONTRIBUTING FACTOR VEHICLE 3'].notnull()) &\\\n",
    "              (data_2017['CONTRIBUTING FACTOR VEHICLE 3'].str.contains('Alcohol'))) | \\\n",
    "                                 ((data_2017['CONTRIBUTING FACTOR VEHICLE 4'].notnull()) &\\\n",
    "              (data_2017['CONTRIBUTING FACTOR VEHICLE 4'].str.contains('Alcohol')))]"
   ]
  },
  {
   "cell_type": "markdown",
   "metadata": {},
   "source": [
    "### Step 10. For each borough, compute the number of accidents per capita involving alcohol in 2017. Report the highest rate among the 5 boroughs. Use populations as given by https://en.wikipedia.org/wiki/Demographics_of_New_York_City."
   ]
  },
  {
   "cell_type": "code",
   "execution_count": 220,
   "metadata": {},
   "outputs": [
    {
     "data": {
      "text/plain": [
       "0.0002272752"
      ]
     },
     "execution_count": 220,
     "metadata": {},
     "output_type": "execute_result"
    }
   ],
   "source": [
    "alcohol_perBorgough=data_2017_alcohol.loc[data_2017_alcohol.BOROUGH.notnull()].groupby('BOROUGH').count()['DATE']\n",
    "pop_table = [1471160,2648771,1664747,2358582,479458]\n",
    "#alcohol_perBorgough/pop_table\n",
    "round((alcohol_perBorgough/pop_table).max(),10)"
   ]
  },
  {
   "cell_type": "markdown",
   "metadata": {},
   "source": [
    "### Step 11. "
   ]
  },
  {
   "cell_type": "code",
   "execution_count": 255,
   "metadata": {},
   "outputs": [
    {
     "data": {
      "text/plain": [
       "DatetimeIndex(['2013-12-31', '2014-12-31', '2015-12-31', '2016-12-31',\n",
       "               '2017-12-31', '2018-12-31'],\n",
       "              dtype='datetime64[ns]', name=u'DATE', freq='A-DEC')"
      ]
     },
     "execution_count": 255,
     "metadata": {},
     "output_type": "execute_result"
    }
   ],
   "source": [
    "t = data.set_index('DATE').resample('A').count()['TIME']\n",
    "t18=t[1:-1]\n",
    "t18.index"
   ]
  },
  {
   "cell_type": "markdown",
   "metadata": {},
   "source": [
    "### Step 12. "
   ]
  },
  {
   "cell_type": "code",
   "execution_count": 264,
   "metadata": {},
   "outputs": [
    {
     "name": "stdout",
     "output_type": "stream",
     "text": [
      "0.8944797895310511\n"
     ]
    }
   ],
   "source": [
    "from sklearn.linear_model import LinearRegression\n",
    "import matplotlib.pyplot as plt\n",
    "%matplotlib inline\n",
    "model = LinearRegression()\n",
    "scores = []\n",
    "model.fit(np.array([[i for i in range(2013,2019)]]).reshape(-1, 1), t18[:])\n",
    "score = model.score(np.array([[i for i in range(2013,2019)]]).reshape(-1, 1), t18[:])\n",
    "print(score)"
   ]
  },
  {
   "cell_type": "markdown",
   "metadata": {},
   "source": [
    "### Step 13. "
   ]
  },
  {
   "cell_type": "code",
   "execution_count": 266,
   "metadata": {},
   "outputs": [
    {
     "data": {
      "text/plain": [
       "[<matplotlib.lines.Line2D at 0x125be7a10>,\n",
       " <matplotlib.lines.Line2D at 0x125be7b10>]"
      ]
     },
     "execution_count": 266,
     "metadata": {},
     "output_type": "execute_result"
    },
    {
     "data": {
      "image/png": "[encoded data removed]",
      "text/plain": [
       "<matplotlib.figure.Figure at 0x1259a17d0>"
      ]
     },
     "metadata": {},
     "output_type": "display_data"
    }
   ],
   "source": [
    "fit = np.polyfit([i for i in range(2013,2019)], t18[:],1)\n",
    "fit_fn = np.poly1d(fit)\n",
    "import matplotlib.pyplot as plt\n",
    "plt.plot([i for i in range(2013,2019)],t18[:], 'yo', [i for i in range(2013,2019)], fit_fn([i for i in range(2013,2019)]), '--k')\n"
   ]
  },
  {
   "cell_type": "markdown",
   "metadata": {},
   "source": [
    "### Step 14. Consider the total number of collisions each year from 2013-2018. Is there an apparent trend? Fit a linear regression for the number of collisions per year and report its slope."
   ]
  },
  {
   "cell_type": "code",
   "execution_count": 270,
   "metadata": {},
   "outputs": [
    {
     "data": {
      "text/plain": [
       "6447.9142857143"
      ]
     },
     "execution_count": 270,
     "metadata": {},
     "output_type": "execute_result"
    }
   ],
   "source": [
    "from scipy.stats import linregress\n",
    "\n",
    "round(linregress([i for i in range(2013,2019)], t18[:]).slope,10)"
   ]
  },
  {
   "cell_type": "markdown",
   "metadata": {},
   "source": [
    "### Step 15. "
   ]
  },
  {
   "cell_type": "code",
   "execution_count": null,
   "metadata": {
    "collapsed": true
   },
   "outputs": [],
   "source": []
  },
  {
   "cell_type": "markdown",
   "metadata": {},
   "source": [
    "### Step 16. "
   ]
  },
  {
   "cell_type": "code",
   "execution_count": null,
   "metadata": {
    "collapsed": true
   },
   "outputs": [],
   "source": []
  },
  {
   "cell_type": "markdown",
   "metadata": {},
   "source": [
    "### BONUS: Create your own question and answer it."
   ]
  },
  {
   "cell_type": "code",
   "execution_count": null,
   "metadata": {
    "collapsed": true
   },
   "outputs": [],
   "source": []
  }
 ],
 "metadata": {
  "kernelspec": {
   "display_name": "Python 2",
   "language": "python",
   "name": "python2"
  },
  "language_info": {
   "codemirror_mode": {
    "name": "ipython",
    "version": 2
   },
   "file_extension": ".py",
   "mimetype": "text/x-python",
   "name": "python",
   "nbconvert_exporter": "python",
   "pygments_lexer": "ipython2",
   "version": "2.7.13"
  }
 },
 "nbformat": 4,
 "nbformat_minor": 1
}
